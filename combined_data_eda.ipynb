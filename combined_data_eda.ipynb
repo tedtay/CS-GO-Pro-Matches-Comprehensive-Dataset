{
 "cells": [
  {
   "cell_type": "code",
   "execution_count": 1,
   "id": "10738c71-8f5f-4a9f-940c-31aa4a9398a7",
   "metadata": {},
   "outputs": [
    {
     "name": "stderr",
     "output_type": "stream",
     "text": [
      "/var/folders/ln/sc1j8w6j0mdfbb41cy10jry00000gn/T/ipykernel_65206/249971810.py:14: DtypeWarning: Columns (15,17,24,26,33,35,42,44,51,53,60,62,69,71,78,80,87,89,96,98) have mixed types. Specify dtype option on import or set low_memory=False.\n",
      "  DF_GAMES = pd.read_csv(\"./scraped_data/game_data_rh.csv\")\n"
     ]
    },
    {
     "name": "stdout",
     "output_type": "stream",
     "text": [
      "DF_GAMES.shape (127274, 102)\n",
      "DF_EX.shape (452, 6)\n",
      "DF_HISTORIC.shape (127695, 10)\n"
     ]
    }
   ],
   "source": [
    "import pandas as pd\n",
    "import numpy as np\n",
    "import seaborn as sns\n",
    "from datetime import datetime \n",
    "import re\n",
    "import os\n",
    "import math\n",
    "\n",
    "\n",
    "pd.set_option('display.max_columns', None)\n",
    "\n",
    "\n",
    "# get games list locally instead of using the above\n",
    "DF_GAMES = pd.read_csv(\"./scraped_data/game_data_rh.csv\")\n",
    "DF_EX = pd.read_csv(\"./scraped_data/exception_data.csv\")\n",
    "DF_HISTORIC = pd.read_csv(\"./scraped_data/historic_games_list.csv\")\n",
    "\n",
    "print(f\"DF_GAMES.shape {DF_GAMES.shape}\")\n",
    "print(f\"DF_EX.shape {DF_EX.shape}\")\n",
    "print(f\"DF_HISTORIC.shape {DF_HISTORIC.shape}\")"
   ]
  },
  {
   "cell_type": "code",
   "execution_count": 2,
   "id": "8b36c44d-926a-4be9-b7ab-98102d64fc5e",
   "metadata": {},
   "outputs": [],
   "source": [
    "def clean_raw_data(df_param):\n",
    "    \n",
    "    # auxillary functions for conversions\n",
    "    def _to_float(x): \n",
    "        try:\n",
    "            return float(x)\n",
    "        except:\n",
    "            return -1\n",
    "        \n",
    "    def _assists_to_flash_assists(x):\n",
    "        try:\n",
    "            return int(x.split('(')[1].replace(\")\",\"\"))\n",
    "        except:\n",
    "            return -1\n",
    "    def _kast_to_float(x):\n",
    "        try:\n",
    "            return float(x.replace(\"%\",\"\"))/100\n",
    "        except:\n",
    "            return 0\n",
    "        \n",
    "    def _compute_team_rating_avg(row,teamNoStr):\n",
    "        ratings = []\n",
    "\n",
    "        try:\n",
    "            ratings.append(float(row[f'{teamNoStr}_p1_game_rating']))\n",
    "        except:\n",
    "            pass\n",
    "        try:\n",
    "            ratings.append(float(row[f'{teamNoStr}_p2_game_rating']))\n",
    "        except:\n",
    "            pass\n",
    "        try:\n",
    "            ratings.append(float(row[f'{teamNoStr}_p3_game_rating']))\n",
    "        except:\n",
    "            pass\n",
    "        try:\n",
    "            ratings.append(float(row[f'{teamNoStr}_p4_game_rating']))\n",
    "        except:\n",
    "            pass\n",
    "        try:\n",
    "            ratings.append(float(row[f'{teamNoStr}_p5_game_rating']))\n",
    "        except:\n",
    "            pass\n",
    "    \n",
    "        return np.mean(ratings)\n",
    "\n",
    "    df_param['team1'] = df_param['team1'].apply(lambda x: x.strip())\n",
    "    df_param['team2'] = df_param['team2'].apply(lambda x: x.strip())\n",
    "    \n",
    "    df_param['team1_win'] = df_param.apply(lambda x: 1 if x['team1_rounds'] > x['team2_rounds'] else 0, axis=1) #\n",
    "    df_param['team2_win'] = df_param.apply(lambda x: 1 if x['team2_rounds'] > x['team1_rounds'] else 0, axis=1) #\n",
    "    \n",
    "    df_param['year'] = df_param['date_unix_iso'].apply(lambda x: datetime.strptime(x, '%Y-%m-%d %H:%M:%S').year) #target\n",
    "    df_param['day'] = df_param['date_unix_iso'].apply(lambda x: datetime.strptime(x, '%Y-%m-%d %H:%M:%S').day) #target\n",
    "    df_param['month'] = df_param['date_unix_iso'].apply(lambda x: datetime.strptime(x, '%Y-%m-%d %H:%M:%S').month) #target\n",
    "    df_param['hour'] = df_param['date_unix_iso'].apply(lambda x: datetime.strptime(x, '%Y-%m-%d %H:%M:%S').hour) #target\n",
    "    df_param['minute'] = df_param['date_unix_iso'].apply(lambda x: datetime.strptime(x, '%Y-%m-%d %H:%M:%S').minute) #target\n",
    "    df_param['datetime'] = df_param['date_unix_iso'].apply(lambda x: datetime.strptime(x, '%Y-%m-%d %H:%M:%S')) \n",
    "        \n",
    "    df_param['team1_rounds'] = df_param['team1_rounds'].apply(lambda x: int(x.replace(\"(\", \"\" ).replace(\")\", \"\" )))\n",
    "    df_param['team2_rounds'] = df_param['team2_rounds'].apply(lambda x: int(x.replace(\"(\", \"\" ).replace(\")\", \"\" )))\n",
    "    \n",
    "    df_param['team1_rounds_clear'] = df_param['team1_rounds'] - df_param['team2_rounds']\n",
    "    df_param['team2_rounds_clear'] = df_param['team2_rounds'] - df_param['team1_rounds']\n",
    "    \n",
    "    df_param['team1_p1_kills'] = df_param['team1_p1_khs'].apply(lambda x: int(x.split('(')[0]))\n",
    "    df_param['team1_p1_kills_headshot'] = df_param['team1_p1_khs'].apply(lambda x: int(x.split('(')[1].replace(\")\",\"\")))\n",
    "    df_param['team1_p1_assists_flash'] = df_param['team1_p1_assists'].apply(lambda x: _assists_to_flash_assists(x))\n",
    "    df_param['team1_p1_assists'] = df_param['team1_p1_assists'].apply(lambda x: int(x.split('(')[0]))\n",
    "    df_param['team1_p1_kast'] = df_param['team1_p1_kast'].apply(lambda x: _kast_to_float(x))\n",
    "    df_param['team1_p1_adr'] = df_param['team1_p1_adr'].apply(lambda x: _to_float(x))\n",
    "    df_param['team1_p1_game_rating'] = df_param['team1_p1_game_rating'].apply(lambda x: _to_float(x))\n",
    "    \n",
    "    df_param['team1_p2_kills'] = df_param['team1_p2_khs'].apply(lambda x: int(x.split('(')[0]))\n",
    "    df_param['team1_p2_kills_headshot'] = df_param['team1_p2_khs'].apply(lambda x: int(x.split('(')[1].replace(\")\",\"\")))\n",
    "    df_param['team1_p2_assists_flash'] = df_param['team1_p2_assists'].apply(lambda x: _assists_to_flash_assists(x))\n",
    "    df_param['team1_p2_assists'] = df_param['team1_p2_assists'].apply(lambda x: int(x.split('(')[0]))\n",
    "    df_param['team1_p2_kast'] = df_param['team1_p2_kast'].apply(lambda x: _kast_to_float(x))\n",
    "    df_param['team1_p2_adr'] = df_param['team1_p2_adr'].apply(lambda x: _to_float(x))\n",
    "    df_param['team1_p2_game_rating'] = df_param['team1_p2_game_rating'].apply(lambda x: _to_float(x))\n",
    "    \n",
    "    df_param['team1_p3_kills'] = df_param['team1_p3_khs'].apply(lambda x: int(x.split('(')[0]))\n",
    "    df_param['team1_p3_kills_headshot'] = df_param['team1_p3_khs'].apply(lambda x: int(x.split('(')[1].replace(\")\",\"\")))\n",
    "    df_param['team1_p3_assists_flash'] = df_param['team1_p3_assists'].apply(lambda x: _assists_to_flash_assists(x))\n",
    "    df_param['team1_p3_assists'] = df_param['team1_p3_assists'].apply(lambda x: int(x.split('(')[0]))\n",
    "    df_param['team1_p3_kast'] = df_param['team1_p3_kast'].apply(lambda x: _kast_to_float(x))\n",
    "    df_param['team1_p3_adr'] = df_param['team1_p3_adr'].apply(lambda x: _to_float(x))\n",
    "    df_param['team1_p3_game_rating'] = df_param['team1_p3_game_rating'].apply(lambda x: _to_float(x))\n",
    "    \n",
    "    df_param['team1_p4_kills'] = df_param['team1_p4_khs'].apply(lambda x: int(x.split('(')[0]))\n",
    "    df_param['team1_p4_kills_headshot'] = df_param['team1_p4_khs'].apply(lambda x: int(x.split('(')[1].replace(\")\",\"\")))\n",
    "    df_param['team1_p4_assists_flash'] = df_param['team1_p4_assists'].apply(lambda x: _assists_to_flash_assists(x))\n",
    "    df_param['team1_p4_assists'] = df_param['team1_p4_assists'].apply(lambda x: int(x.split('(')[0]))\n",
    "    df_param['team1_p4_kast'] = df_param['team1_p4_kast'].apply(lambda x: _kast_to_float(x))\n",
    "    df_param['team1_p4_adr'] = df_param['team1_p4_adr'].apply(lambda x: _to_float(x))\n",
    "    df_param['team1_p4_game_rating'] = df_param['team1_p4_game_rating'].apply(lambda x: _to_float(x))\n",
    "\n",
    "    df_param['team1_p5_kills'] = df_param['team1_p5_khs'].apply(lambda x: int(x.split('(')[0]))\n",
    "    df_param['team1_p5_kills_headshot'] = df_param['team1_p5_khs'].apply(lambda x: int(x.split('(')[1].replace(\")\",\"\")))\n",
    "    df_param['team1_p5_assists_flash'] = df_param['team1_p5_assists'].apply(lambda x: _assists_to_flash_assists(x))\n",
    "    df_param['team1_p5_assists'] = df_param['team1_p5_assists'].apply(lambda x: int(x.split('(')[0]))\n",
    "    df_param['team1_p5_kast'] = df_param['team1_p5_kast'].apply(lambda x: _kast_to_float(x))\n",
    "    df_param['team1_p5_adr'] = df_param['team1_p5_adr'].apply(lambda x: _to_float(x))\n",
    "    df_param['team1_p5_game_rating'] = df_param['team1_p5_game_rating'].apply(lambda x: _to_float(x))\n",
    "    \n",
    "    df_param['team2_p1_kills'] = df_param['team2_p1_khs'].apply(lambda x: int(x.split('(')[0]))\n",
    "    df_param['team2_p1_kills_headshot'] = df_param['team2_p1_khs'].apply(lambda x: int(x.split('(')[1].replace(\")\",\"\")))\n",
    "    df_param['team2_p1_assists_flash'] = df_param['team2_p1_assists'].apply(lambda x: _assists_to_flash_assists(x))\n",
    "    df_param['team2_p1_assists'] = df_param['team2_p1_assists'].apply(lambda x: int(x.split('(')[0]))\n",
    "    df_param['team2_p1_kast'] = df_param['team2_p1_kast'].apply(lambda x: _kast_to_float(x))\n",
    "    df_param['team2_p1_adr'] = df_param['team2_p1_adr'].apply(lambda x: _to_float(x))\n",
    "    df_param['team2_p1_game_rating'] = df_param['team2_p1_game_rating'].apply(lambda x: _to_float(x))\n",
    "\n",
    "    df_param['team2_p2_kills'] = df_param['team2_p2_khs'].apply(lambda x: int(x.split('(')[0]))\n",
    "    df_param['team2_p2_kills_headshot'] = df_param['team2_p2_khs'].apply(lambda x: int(x.split('(')[1].replace(\")\",\"\")))\n",
    "    df_param['team2_p2_assists_flash'] = df_param['team2_p2_assists'].apply(lambda x: _assists_to_flash_assists(x))\n",
    "    df_param['team2_p2_assists'] = df_param['team2_p2_assists'].apply(lambda x: int(x.split('(')[0]))\n",
    "    df_param['team2_p2_kast'] = df_param['team2_p2_kast'].apply(lambda x: _kast_to_float(x))\n",
    "    df_param['team2_p2_adr'] = df_param['team2_p2_adr'].apply(lambda x: _to_float(x))\n",
    "    df_param['team2_p2_game_rating'] = df_param['team2_p2_game_rating'].apply(lambda x: _to_float(x))\n",
    "    \n",
    "    df_param['team2_p3_kills'] = df_param['team2_p3_khs'].apply(lambda x: int(x.split('(')[0]))\n",
    "    df_param['team2_p3_kills_headshot'] = df_param['team2_p3_khs'].apply(lambda x: int(x.split('(')[1].replace(\")\",\"\")))\n",
    "    df_param['team2_p3_assists_flash'] = df_param['team2_p3_assists'].apply(lambda x: _assists_to_flash_assists(x))\n",
    "    df_param['team2_p3_assists'] = df_param['team2_p3_assists'].apply(lambda x: int(x.split('(')[0]))\n",
    "    df_param['team2_p3_kast'] = df_param['team2_p3_kast'].apply(lambda x: _kast_to_float(x))\n",
    "    df_param['team2_p3_adr'] = df_param['team2_p3_adr'].apply(lambda x: _to_float(x))\n",
    "    df_param['team2_p3_game_rating'] = df_param['team2_p3_game_rating'].apply(lambda x: _to_float(x))\n",
    "    \n",
    "    df_param['team2_p4_kills'] = df_param['team2_p4_khs'].apply(lambda x: int(x.split('(')[0]))\n",
    "    df_param['team2_p4_kills_headshot'] = df_param['team2_p4_khs'].apply(lambda x: int(x.split('(')[1].replace(\")\",\"\")))\n",
    "    df_param['team2_p4_assists_flash'] = df_param['team2_p4_assists'].apply(lambda x: _assists_to_flash_assists(x))\n",
    "    df_param['team2_p4_assists'] = df_param['team2_p4_assists'].apply(lambda x: int(x.split('(')[0]))\n",
    "    df_param['team2_p4_kast'] = df_param['team2_p4_kast'].apply(lambda x: _kast_to_float(x))\n",
    "    df_param['team2_p4_adr'] = df_param['team2_p4_adr'].apply(lambda x: _to_float(x))\n",
    "    df_param['team2_p4_game_rating'] = df_param['team2_p4_game_rating'].apply(lambda x: _to_float(x))\n",
    "\n",
    "    df_param['team2_p5_kills'] = df_param['team2_p5_khs'].apply(lambda x: int(x.split('(')[0]))\n",
    "    df_param['team2_p5_kills_headshot'] = df_param['team2_p5_khs'].apply(lambda x: int(x.split('(')[1].replace(\")\",\"\")))\n",
    "    df_param['team2_p5_assists_flash'] = df_param['team2_p5_assists'].apply(lambda x: _assists_to_flash_assists(x))\n",
    "    df_param['team2_p5_assists'] = df_param['team2_p5_assists'].apply(lambda x: int(x.split('(')[0]))\n",
    "    df_param['team2_p5_kast'] = df_param['team2_p5_kast'].apply(lambda x: _kast_to_float(x))\n",
    "    df_param['team2_p5_adr'] = df_param['team2_p5_adr'].apply(lambda x: _to_float(x))\n",
    "    df_param['team2_p5_game_rating'] = df_param['team2_p5_game_rating'].apply(lambda x: _to_float(x))\n",
    "    \n",
    "    df_param['team1_avg_adr'] = df_param.apply(lambda x: (x['team1_p1_adr'] + x['team1_p2_adr'] + x['team1_p3_adr'] + x['team1_p4_adr'] + x['team1_p5_adr'])/5, axis=1)\n",
    "    df_param['team2_avg_adr'] = df_param.apply(lambda x: (x['team2_p1_adr'] + x['team2_p2_adr'] + x['team2_p3_adr'] + x['team2_p4_adr'] + x['team2_p5_adr'])/5, axis=1)\n",
    "    \n",
    "    df_param['team1_avg_deaths'] = df_param.apply(lambda x: (x['team1_p1_deaths'] + x['team1_p2_deaths'] + x['team1_p3_deaths'] + x['team1_p4_deaths'] + x['team1_p5_deaths'])/5, axis=1)\n",
    "    df_param['team2_avg_deaths'] = df_param.apply(lambda x: (x['team2_p1_deaths'] + x['team2_p2_deaths'] + x['team2_p3_deaths'] + x['team2_p4_deaths'] + x['team2_p5_deaths'])/5, axis=1)\n",
    "    \n",
    "    df_param['team1_avg_kast'] = df_param.apply(lambda x: (x['team1_p1_kast'] + x['team1_p2_kast'] + x['team1_p3_kast'] + x['team1_p4_kast'] + x['team1_p5_kast'])/5, axis=1)\n",
    "    df_param['team2_avg_kast'] = df_param.apply(lambda x: (x['team2_p1_kast'] + x['team2_p2_kast'] + x['team2_p3_kast'] + x['team2_p4_kast'] + x['team2_p5_kast'])/5, axis=1)\n",
    "    \n",
    "    df_param['team1_avg_kddiff'] = df_param.apply(lambda x: (x['team1_p1_kddiff'] + x['team1_p2_kddiff'] + x['team1_p3_kddiff'] + x['team1_p4_kddiff'] + x['team1_p5_kddiff'])/5, axis=1)\n",
    "    df_param['team2_avg_kddiff'] = df_param.apply(lambda x: (x['team2_p1_kddiff'] + x['team2_p2_kddiff'] + x['team2_p3_kddiff'] + x['team2_p4_kddiff'] + x['team2_p5_kddiff'])/5, axis=1)\n",
    "    \n",
    "    df_param['team1_game_rating'] = df_param.apply(lambda x: _compute_team_rating_avg(x,'team1'), axis=1)\n",
    "    df_param['team2_game_rating'] = df_param.apply(lambda x: _compute_team_rating_avg(x,'team2'), axis=1)\n",
    "    \n",
    "    df_param['team1_avg_kills'] = df_param.apply(lambda x: (x['team1_p1_kills'] + x['team1_p2_kills'] + x['team1_p3_kills'] + x['team1_p4_kills'] + x['team1_p5_kills'])/5, axis=1)\n",
    "    df_param['team2_avg_kills'] = df_param.apply(lambda x: (x['team2_p1_kills'] + x['team2_p2_kills'] + x['team2_p3_kills'] + x['team2_p4_kills'] + x['team2_p5_kills'])/5, axis=1)\n",
    "    \n",
    "    df_param['team1_avg_kills_headshot'] = df_param.apply(lambda x: (x['team1_p1_kills_headshot'] + x['team1_p2_kills_headshot'] + x['team1_p3_kills_headshot'] + x['team1_p4_kills_headshot'] + x['team1_p5_kills_headshot'])/5, axis=1)\n",
    "    df_param['team2_avg_kills_headshot'] = df_param.apply(lambda x: (x['team2_p1_kills_headshot'] + x['team2_p2_kills_headshot'] + x['team2_p3_kills_headshot'] + x['team2_p4_kills_headshot'] + x['team2_p5_kills_headshot'])/5, axis=1)\n",
    "    \n",
    "    df_param['team1_avg_assists'] = df_param.apply(lambda x: (x['team1_p1_assists'] + x['team1_p2_assists'] + x['team1_p3_assists'] + x['team1_p4_assists'] + x['team1_p5_assists'])/5, axis=1)\n",
    "    df_param['team2_avg_assists'] = df_param.apply(lambda x: (x['team2_p1_assists'] + x['team2_p2_assists'] + x['team2_p3_assists'] + x['team2_p4_assists'] + x['team2_p5_assists'])/5, axis=1)\n",
    "  \n",
    "    df_param['team1_avg_assists_flash'] = df_param.apply(lambda x: (x['team1_p1_assists_flash'] + x['team1_p2_assists_flash'] + x['team1_p3_assists_flash'] + x['team1_p4_assists_flash'] + x['team1_p5_assists_flash'])/5, axis=1)\n",
    "    df_param['team2_avg_assists_flash'] = df_param.apply(lambda x: (x['team2_p1_assists_flash'] + x['team2_p2_assists_flash'] + x['team2_p3_assists_flash'] + x['team2_p4_assists_flash'] + x['team2_p5_assists_flash'])/5, axis=1)\n",
    "    \n",
    "    \n",
    "    df_param = df_param.drop(columns= ['Unnamed: 0','date_ymd', 'date_unix_iso', 'date_unix', 'game_link' ,'team1_p1_khs', 'team1_p2_khs' ,'team1_p3_khs' ,'team1_p4_khs', 'team1_p5_khs',\n",
    "                                      'team2_p1_khs', 'team2_p2_khs' ,'team2_p3_khs' ,'team2_p4_khs', 'team2_p5_khs'])\n",
    "    \n",
    "    df_param = df_param.rename(columns={\"team1_half1_t\": \"team1_half1\", \"team2_half1_ct\": \"team2_half1\", \"team1_half2_ct\": \"team1_half2\", \"team1_half2_t\": \"team2_half2\"})\n",
    "    \n",
    "    df_param['target'] = df_param['team1_win'] # target\n",
    "    return df_param"
   ]
  },
  {
   "cell_type": "code",
   "execution_count": 3,
   "id": "5537789a-4aaf-48a5-8a36-6f431ff37a9c",
   "metadata": {},
   "outputs": [],
   "source": [
    "import warnings\n",
    "warnings.filterwarnings(\"ignore\") #This will ignore all DeprecationWarning warnings\n",
    "\n",
    "df_clean = DF_HISTORIC.merge(DF_GAMES, how='inner' ,on='game_link') # merge with historic games list data\n",
    "df_clean = df_clean.drop_duplicates(subset='game_link', keep=\"first\") # drop any duplicate rows\n",
    "df_clean = clean_raw_data(df_clean)"
   ]
  },
  {
   "cell_type": "code",
   "execution_count": 4,
   "id": "5d97d340-a725-4cf2-a7cb-266e8f1ca2bf",
   "metadata": {},
   "outputs": [],
   "source": [
    "df = df_clean.copy()"
   ]
  },
  {
   "cell_type": "code",
   "execution_count": 5,
   "id": "b9a26840-c5e4-4d6d-bbfd-6f24896d3a92",
   "metadata": {},
   "outputs": [
    {
     "data": {
      "text/plain": [
       "Ninjas in Pyjamas    2185\n",
       "Virtus.pro           2150\n",
       "fnatic               2122\n",
       "MOUZ                 2026\n",
       "Natus Vincere        1984\n",
       "Tricked              1860\n",
       "ALTERNATE aTTaX      1830\n",
       "FORZE                1780\n",
       "HellRaisers          1780\n",
       "Liquid               1751\n",
       "dtype: int64"
      ]
     },
     "execution_count": 5,
     "metadata": {},
     "output_type": "execute_result"
    }
   ],
   "source": [
    "# Top 10 teams ranked by games played\n",
    "\n",
    "pd.concat([df['team1'], df['team2']]).value_counts()[0:10]"
   ]
  },
  {
   "cell_type": "code",
   "execution_count": 6,
   "id": "07738c69-8a8e-4f45-af9e-e8ba7f060c9d",
   "metadata": {},
   "outputs": [
    {
     "data": {
      "text/plain": [
       "bubble    2359\n",
       "TaZ       2347\n",
       "Snax      2253\n",
       "Lucky     2228\n",
       "JW        2217\n",
       "Spiidi    2200\n",
       "NBK-      2194\n",
       "SZPERO    2162\n",
       "Furlan    2158\n",
       "flusha    2155\n",
       "dtype: int64"
      ]
     },
     "execution_count": 6,
     "metadata": {},
     "output_type": "execute_result"
    }
   ],
   "source": [
    "# Top 10 players ranked by games played\n",
    "\n",
    "pd.concat([df['team1_p1_name'], df['team1_p2_name'],df['team1_p3_name'], df['team1_p4_name'], df['team1_p5_name'], \n",
    "          df['team2_p1_name'], df['team2_p2_name'],df['team2_p3_name'], df['team2_p4_name'], df['team2_p5_name']]).value_counts()[0:10]"
   ]
  },
  {
   "cell_type": "code",
   "execution_count": 7,
   "id": "43c65981-f43d-4801-8a30-2217231c63d4",
   "metadata": {},
   "outputs": [
    {
     "data": {
      "text/plain": [
       "<AxesSubplot:xlabel='year', ylabel='Count'>"
      ]
     },
     "execution_count": 7,
     "metadata": {},
     "output_type": "execute_result"
    },
    {
     "data": {
      "image/png": "[encoded data removed]",
      "text/plain": [
       "<Figure size 640x480 with 1 Axes>"
      ]
     },
     "metadata": {},
     "output_type": "display_data"
    }
   ],
   "source": [
    "# games played by year\n",
    "# *this data was collected September way through 2023 hence the drop in 2023\n",
    "\n",
    "sns.histplot(data=df, x=\"year\")"
   ]
  },
  {
   "cell_type": "code",
   "execution_count": 8,
   "id": "aaeb3f22-994f-4d08-b8c1-efa2a1918c48",
   "metadata": {},
   "outputs": [
    {
     "data": {
      "text/plain": [
       "<AxesSubplot:xlabel='year', ylabel='team1_rounds_clear'>"
      ]
     },
     "execution_count": 8,
     "metadata": {},
     "output_type": "execute_result"
    },
    {
     "data": {
      "image/png": "[encoded data removed]",
      "text/plain": [
       "<Figure size 640x480 with 1 Axes>"
      ]
     },
     "metadata": {},
     "output_type": "display_data"
    }
   ],
   "source": [
    "# CS:GO became more competetive over the years\n",
    "\n",
    "sns.lineplot(data=df.groupby(['year'])['team1_rounds_clear'].mean())"
   ]
  },
  {
   "cell_type": "code",
   "execution_count": 9,
   "id": "f041a089-5198-49c9-ab96-c277114567ae",
   "metadata": {},
   "outputs": [
    {
     "data": {
      "text/plain": [
       "<AxesSubplot:xlabel='year'>"
      ]
     },
     "execution_count": 9,
     "metadata": {},
     "output_type": "execute_result"
    },
    {
     "data": {
      "image/png": "[encoded data removed]",
      "text/plain": [
       "<Figure size 640x480 with 1 Axes>"
      ]
     },
     "metadata": {},
     "output_type": "display_data"
    }
   ],
   "source": [
    "# Avergae kills per game has been stable since 2015\n",
    "# * this data seems high to me - will do some digging into possible causes\n",
    "\n",
    "sns.lineplot(data=df.groupby(['year'])['team1_avg_kills','team2_avg_kills'].mean().apply(lambda x: x['team1_avg_kills']+x['team2_avg_kills'], axis=1))"
   ]
  },
  {
   "cell_type": "code",
   "execution_count": null,
   "id": "5d2e4c72-24e8-480f-ad96-4cd9d5a66370",
   "metadata": {},
   "outputs": [],
   "source": []
  },
  {
   "cell_type": "code",
   "execution_count": null,
   "id": "3467fe4a-63d3-42cc-82e7-385d4f464bf6",
   "metadata": {},
   "outputs": [],
   "source": []
  },
  {
   "cell_type": "code",
   "execution_count": null,
   "id": "e45cb9ed-1467-4dc4-b11e-9a19e686a377",
   "metadata": {},
   "outputs": [],
   "source": []
  },
  {
   "cell_type": "code",
   "execution_count": null,
   "id": "7bb2f702-30ea-4321-bee4-421328472ac2",
   "metadata": {},
   "outputs": [],
   "source": []
  },
  {
   "cell_type": "code",
   "execution_count": null,
   "id": "19e06a5c-a210-496e-bcf0-9b931dbafd49",
   "metadata": {},
   "outputs": [],
   "source": []
  },
  {
   "cell_type": "code",
   "execution_count": null,
   "id": "23946d27-a5cc-4445-bdc6-d5492df5a26c",
   "metadata": {},
   "outputs": [],
   "source": []
  },
  {
   "cell_type": "code",
   "execution_count": null,
   "id": "7c3782b3-f651-4821-999c-d2866d793a06",
   "metadata": {},
   "outputs": [],
   "source": []
  }
 ],
 "metadata": {
  "kernelspec": {
   "display_name": "Python 3 (ipykernel)",
   "language": "python",
   "name": "python3"
  },
  "language_info": {
   "codemirror_mode": {
    "name": "ipython",
    "version": 3
   },
   "file_extension": ".py",
   "mimetype": "text/x-python",
   "name": "python",
   "nbconvert_exporter": "python",
   "pygments_lexer": "ipython3",
   "version": "3.9.13"
  }
 },
 "nbformat": 4,
 "nbformat_minor": 5
}
